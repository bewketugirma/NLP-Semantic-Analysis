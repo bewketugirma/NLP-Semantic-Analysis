{
 "cells": [
  {
   "cell_type": "markdown",
   "id": "0800483c",
   "metadata": {},
   "source": [
    "<!-- semantic_role_labeling -->"
   ]
  },
  {
   "cell_type": "code",
   "execution_count": null,
   "id": "b84b6e89",
   "metadata": {
    "vscode": {
     "languageId": "plaintext"
    }
   },
   "outputs": [],
   "source": []
  }
 ],
 "metadata": {
  "language_info": {
   "name": "python"
  }
 },
 "nbformat": 4,
 "nbformat_minor": 5
}
