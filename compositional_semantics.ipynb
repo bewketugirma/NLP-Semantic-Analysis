{
 "cells": [
  {
   "cell_type": "markdown",
   "id": "42f2d730",
   "metadata": {},
   "source": [
    "<!-- compositional_semantics -->"
   ]
  },
  {
   "cell_type": "code",
   "execution_count": null,
   "id": "c1892f36",
   "metadata": {
    "vscode": {
     "languageId": "plaintext"
    }
   },
   "outputs": [],
   "source": []
  }
 ],
 "metadata": {
  "language_info": {
   "name": "python"
  }
 },
 "nbformat": 4,
 "nbformat_minor": 5
}
