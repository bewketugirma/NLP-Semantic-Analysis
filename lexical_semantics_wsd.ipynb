{
 "cells": [
  {
   "cell_type": "markdown",
   "id": "8ca75fde",
   "metadata": {},
   "source": [
    "<!-- lexical_semantics_wsd -->"
   ]
  },
  {
   "cell_type": "code",
   "execution_count": null,
   "id": "4c2f1d19",
   "metadata": {
    "vscode": {
     "languageId": "plaintext"
    }
   },
   "outputs": [],
   "source": []
  }
 ],
 "metadata": {
  "language_info": {
   "name": "python"
  }
 },
 "nbformat": 4,
 "nbformat_minor": 5
}
