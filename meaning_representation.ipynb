{
 "cells": [
  {
   "cell_type": "markdown",
   "id": "90aba9a2",
   "metadata": {},
   "source": [
    "# meaning_representation"
   ]
  },
  {
   "cell_type": "code",
   "execution_count": null,
   "id": "666754b0",
   "metadata": {},
   "outputs": [],
   "source": []
  }
 ],
 "metadata": {
  "kernelspec": {
   "display_name": "hf-nlp",
   "language": "python",
   "name": "python3"
  },
  "language_info": {
   "name": "python",
   "version": "3.9.21"
  }
 },
 "nbformat": 4,
 "nbformat_minor": 5
}
