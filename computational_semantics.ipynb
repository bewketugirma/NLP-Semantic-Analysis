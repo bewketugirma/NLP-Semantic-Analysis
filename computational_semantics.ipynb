{
 "cells": [
  {
   "cell_type": "markdown",
   "id": "870e68d1",
   "metadata": {},
   "source": [
    "# computational_semantics.py"
   ]
  },
  {
   "cell_type": "code",
   "execution_count": null,
   "id": "78e26b82",
   "metadata": {
    "vscode": {
     "languageId": "plaintext"
    }
   },
   "outputs": [],
   "source": []
  }
 ],
 "metadata": {
  "language_info": {
   "name": "python"
  }
 },
 "nbformat": 4,
 "nbformat_minor": 5
}
